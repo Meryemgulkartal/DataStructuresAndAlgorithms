{
 "cells": [
  {
   "cell_type": "code",
   "execution_count": 1,
   "metadata": {},
   "outputs": [
    {
     "name": "stdout",
     "output_type": "stream",
     "text": [
      "Length: 0, Byte: 56\n",
      "Length: 1, Byte: 88\n",
      "Length: 2, Byte: 88\n",
      "Length: 3, Byte: 88\n",
      "Length: 4, Byte: 88\n",
      "Length: 5, Byte: 120\n",
      "Length: 6, Byte: 120\n",
      "Length: 7, Byte: 120\n",
      "Length: 8, Byte: 120\n",
      "Length: 9, Byte: 184\n",
      "Length: 10, Byte: 184\n",
      "Length: 11, Byte: 184\n",
      "Length: 12, Byte: 184\n",
      "Length: 13, Byte: 184\n",
      "Length: 14, Byte: 184\n",
      "Length: 15, Byte: 184\n",
      "Length: 16, Byte: 184\n",
      "Length: 17, Byte: 248\n",
      "Length: 18, Byte: 248\n",
      "Length: 19, Byte: 248\n",
      "Length: 20, Byte: 248\n",
      "Length: 21, Byte: 248\n",
      "Length: 22, Byte: 248\n",
      "Length: 23, Byte: 248\n",
      "Length: 24, Byte: 248\n",
      "Length: 25, Byte: 312\n",
      "Length: 26, Byte: 312\n",
      "Length: 27, Byte: 312\n",
      "Length: 28, Byte: 312\n",
      "Length: 29, Byte: 312\n"
     ]
    }
   ],
   "source": [
    "#TODO: To communicate with system we're importing sys \n",
    "#Trying to figure out how python communicates with system when a list is extending \n",
    "import sys \n",
    "\n",
    "n = 30\n",
    "myDynamicArray = []\n",
    "\n",
    "for i in range(n):\n",
    "    myLength = len(myDynamicArray)\n",
    "    myByte = sys.getsizeof(myDynamicArray)\n",
    "    \n",
    "    print(F\"Length: {myLength}, Byte: {myByte}\")\n",
    "    \n",
    "    myDynamicArray.append(n)\n",
    "    "
   ]
  },
  {
   "cell_type": "markdown",
   "metadata": {},
   "source": [
    "We're going to solve \"Containts Duplicate\" problem.You can find it in leetcode.com or hackerrank.com . https://leetcode.com/problems/contains-duplicate/ (Microsoft)"
   ]
  },
  {
   "cell_type": "code",
   "execution_count": 18,
   "metadata": {},
   "outputs": [
    {
     "name": "stdout",
     "output_type": "stream",
     "text": [
      "True\n"
     ]
    }
   ],
   "source": [
    "\n",
    "myList = [1,2,3,4,5,6,7,7,8]\n",
    "\n",
    "def solution():\n",
    "    return len(myList) != len(set(myList))\n",
    "\n",
    "print(solution())"
   ]
  },
  {
   "cell_type": "markdown",
   "metadata": {},
   "source": [
    "We're going to solve \"Single Number\" problem.You can find it in leetcode.com or hackerrank.com . https://leetcode.com/problems/single-number/"
   ]
  },
  {
   "cell_type": "code",
   "execution_count": 29,
   "metadata": {},
   "outputs": [
    {
     "data": {
      "text/plain": [
       "1"
      ]
     },
     "execution_count": 29,
     "metadata": {},
     "output_type": "execute_result"
    }
   ],
   "source": [
    "#Bit manipultion \n",
    "\n",
    "def singleNumber():\n",
    "    list = [1,1,2,23]\n",
    "    \n",
    "    result = 0\n",
    "    \n",
    "    for num in list:\n",
    "        result = num ^ result # ^ means XOR gate\n",
    "        return result\n",
    "\n",
    "singleNumber() "
   ]
  },
  {
   "cell_type": "markdown",
   "metadata": {},
   "source": [
    "We're going to solve \"Majorit Element\" problem.You can find it in leetcode.com or hackerrank.com . https://leetcode.com/problems/majority-element/"
   ]
  }
 ],
 "metadata": {
  "kernelspec": {
   "display_name": "Python 3.10.9 64-bit",
   "language": "python",
   "name": "python3"
  },
  "language_info": {
   "codemirror_mode": {
    "name": "ipython",
    "version": 3
   },
   "file_extension": ".py",
   "mimetype": "text/x-python",
   "name": "python",
   "nbconvert_exporter": "python",
   "pygments_lexer": "ipython3",
   "version": "3.11.1"
  },
  "orig_nbformat": 4,
  "vscode": {
   "interpreter": {
    "hash": "aee8b7b246df8f9039afb4144a1f6fd8d2ca17a180786b69acc140d282b71a49"
   }
  }
 },
 "nbformat": 4,
 "nbformat_minor": 2
}
